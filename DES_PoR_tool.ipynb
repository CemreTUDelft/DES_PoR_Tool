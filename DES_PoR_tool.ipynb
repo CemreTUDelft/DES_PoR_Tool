import random
import simpy

#Area calculation of treatment rooms & waiting areas in each outpatient department
if NUM_DOCTORS == 1:
    Outpatient_Dept_Area = (16 * NUM_DOCTORS) + 12 #treatment rooms + waiting areas
elif NUM_DOCTORS == 2:
    Outpatient_Dept_Area = (16 * NUM_DOCTORS) + 24 #treatment rooms + waiting areas
elif NUM_DOCTORS > 2:
    Outpatient_Dept_Area = (16 * NUM_DOCTORS) + 24 + (5 * (NUM_DOCTORS - 2)) #treatment rooms + waiting areas
