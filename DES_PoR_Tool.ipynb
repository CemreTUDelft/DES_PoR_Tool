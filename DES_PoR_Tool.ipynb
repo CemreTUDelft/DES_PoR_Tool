{
 "cells": [
  {
   "cell_type": "markdown",
   "metadata": {},
   "source": [
    "# DES_PoR_Tool\n",
    "\n",
    "Developed in 2018 by Cemre Çubukçuoğlu - BK <C.Cubukcuoglu@tudelft.nl> \n",
    "\n",
    "This is a Discrete-Event Simulation (DES) tool developed as a parametric CAD program for validating program of requirements (PoR) for hospital space planning. The DES model simulates the procedures of processing of patients treated by doctors, calculating patient throughput and patient waiting times, based on the number of doctors, patient arrivals, and treatment times. In addition, the tool is capable of defining space requirements by taking hospital design standards into account. Using this tool, what-if scenarios and assumptions on the PoR pertaining to space planning can be tested and/or validated. The tool is ultimately meant for reducing patient waiting times and/or increasing patient throughput by checking the match of the layout of a hospital with respect to its procedural operations. This tool is envisaged to grow into a toolkit providing a methodological framework for bringing Operations Research into Architectural Space Planning. The tool is implemented in Python for [Grasshopper3D](https://www.grasshopper3d.com/), a plugin of McNeel's [Rhino3D](https://www.rhino3d.com/) CAD software using the [SimPy library](https://simpy.readthedocs.io/en/latest/).\n",
    "\n",
    "Graphical Abstract: \n",
    "![alt text][logo]\n",
    "\n",
    "[logo]: https://github.com/CemreTUDelft/DES_PoR_Tool/blob/master/DES_GraphicalAbstract.jpg \"Logo Title Text 2\"\n",
    "\n",
    "The procedure run by the tool can be described as the following:\n",
    "```\n",
    "Begin\n",
    "\tPut the simulation settings\n",
    "\tCreate DES model\n",
    "\t\tCreate patient arrivals\n",
    "\t\tCreate treatment process using GH inputs\n",
    "\t\tRun the simulation\n",
    "\tGet the outputs of DES\n",
    "\n",
    "\tCalculate space requirements for each unit\n",
    "\t\tFormulations using GH inputs and hospital design standards\n",
    "\tGet the outputs of PoR\n",
    "End\n",
    "```"
   ]
  },
  {
   "cell_type": "markdown",
   "metadata": {},
   "source": [
    "# Installation\n",
    "\n",
    "Before running the following cells, the [SimPy package](https://anaconda.org/mutirri/simpy) must be installed: \n",
    "\n",
    "To install this package with conda run one of the following:\n",
    "```\n",
    "conda install -c mutirri simpy\n",
    "conda install -c mutirri/label/all simpy\n",
    "conda install -c mutirri/label/anaconda simpy\n",
    "```\n"
   ]
  },
  {
   "cell_type": "code",
   "execution_count": 1,
   "metadata": {},
   "outputs": [
    {
     "ename": "ModuleNotFoundError",
     "evalue": "No module named 'simpy'",
     "output_type": "error",
     "traceback": [
      "\u001b[1;31m---------------------------------------------------------------------------\u001b[0m",
      "\u001b[1;31mModuleNotFoundError\u001b[0m                       Traceback (most recent call last)",
      "\u001b[1;32m<ipython-input-1-c3cbd7090e21>\u001b[0m in \u001b[0;36m<module>\u001b[1;34m()\u001b[0m\n\u001b[0;32m      1\u001b[0m \u001b[1;32mimport\u001b[0m \u001b[0mrandom\u001b[0m\u001b[1;33m\u001b[0m\u001b[0m\n\u001b[1;32m----> 2\u001b[1;33m \u001b[1;32mimport\u001b[0m \u001b[0msimpy\u001b[0m\u001b[1;33m\u001b[0m\u001b[0m\n\u001b[0m\u001b[0;32m      3\u001b[0m \u001b[1;33m\u001b[0m\u001b[0m\n\u001b[0;32m      4\u001b[0m \u001b[1;31m#Area calculation of treatment rooms & waiting areas in each outpatient department\u001b[0m\u001b[1;33m\u001b[0m\u001b[1;33m\u001b[0m\u001b[0m\n\u001b[0;32m      5\u001b[0m \u001b[1;32mif\u001b[0m \u001b[0mNUM_DOCTORS\u001b[0m \u001b[1;33m==\u001b[0m \u001b[1;36m1\u001b[0m\u001b[1;33m:\u001b[0m\u001b[1;33m\u001b[0m\u001b[0m\n",
      "\u001b[1;31mModuleNotFoundError\u001b[0m: No module named 'simpy'"
     ]
    }
   ],
   "source": [
    "import random\n",
    "import simpy\n",
    "\n",
    "#Area calculation of treatment rooms & waiting areas in each outpatient department\n",
    "if NUM_DOCTORS == 1:\n",
    "    Outpatient_Dept_Area = (16 * NUM_DOCTORS) + 12 #treatment rooms + waiting areas\n",
    "elif NUM_DOCTORS == 2:\n",
    "    Outpatient_Dept_Area = (16 * NUM_DOCTORS) + 24 #treatment rooms + waiting areas\n",
    "elif NUM_DOCTORS > 2:\n",
    "    Outpatient_Dept_Area = (16 * NUM_DOCTORS) + 24 + (5 * (NUM_DOCTORS - 2)) #treatment rooms + waiting areas"
   ]
  },
  {
   "cell_type": "markdown",
   "metadata": {},
   "source": []
  },
  {
   "cell_type": "code",
   "execution_count": null,
   "metadata": {},
   "outputs": [],
   "source": []
  },
  {
   "cell_type": "code",
   "execution_count": null,
   "metadata": {},
   "outputs": [],
   "source": []
  }
 ],
 "metadata": {
  "kernelspec": {
   "display_name": "Python 3",
   "language": "python",
   "name": "python3"
  },
  "language_info": {
   "codemirror_mode": {
    "name": "ipython",
    "version": 3
   },
   "file_extension": ".py",
   "mimetype": "text/x-python",
   "name": "python",
   "nbconvert_exporter": "python",
   "pygments_lexer": "ipython3",
   "version": "3.6.4"
  },
  "toc": {
   "base_numbering": 1,
   "nav_menu": {},
   "number_sections": true,
   "sideBar": true,
   "skip_h1_title": false,
   "title_cell": "Table of Contents",
   "title_sidebar": "Contents",
   "toc_cell": false,
   "toc_position": {},
   "toc_section_display": true,
   "toc_window_display": false
  }
 },
 "nbformat": 4,
 "nbformat_minor": 2
}
